{
 "cells": [
  {
   "cell_type": "code",
   "execution_count": 12,
   "metadata": {
    "tags": []
   },
   "outputs": [
    {
     "output_type": "stream",
     "name": "stdout",
     "text": "Looking in indexes: https://test.pypi.org/simple/\nCollecting lambdata-timrocar==0.0.4\n  Downloading https://test-files.pythonhosted.org/packages/5f/01/074f421b11ba25de5ab9ff867cbfcc7997e732fe9a6e161d96e4b304aac9/lambdata_timrocar-0.0.4-py3-none-any.whl (2.8 kB)\nRequirement already satisfied: pandas in c:\\users\\timro\\appdata\\local\\programs\\python\\python38\\lib\\site-packages (from lambdata-timrocar==0.0.4) (1.1.1)\nRequirement already satisfied: numpy in c:\\users\\timro\\appdata\\local\\programs\\python\\python38\\lib\\site-packages (from lambdata-timrocar==0.0.4) (1.19.1)\nRequirement already satisfied: python-dateutil>=2.7.3 in c:\\users\\timro\\appdata\\local\\programs\\python\\python38\\lib\\site-packages (from pandas->lambdata-timrocar==0.0.4) (2.8.1)\nRequirement already satisfied: pytz>=2017.2 in c:\\users\\timro\\appdata\\local\\programs\\python\\python38\\lib\\site-packages (from pandas->lambdata-timrocar==0.0.4) (2020.1)\nRequirement already satisfied: six>=1.5 in c:\\users\\timro\\appdata\\local\\programs\\python\\python38\\lib\\site-packages (from python-dateutil>=2.7.3->pandas->lambdata-timrocar==0.0.4) (1.15.0)\nInstalling collected packages: lambdata-timrocar\n  Attempting uninstall: lambdata-timrocar\n    Found existing installation: lambdata-timrocar 0.0.3\n    Uninstalling lambdata-timrocar-0.0.3:\n      Successfully uninstalled lambdata-timrocar-0.0.3\nSuccessfully installed lambdata-timrocar-0.0.4\nNote: you may need to restart the kernel to use updated packages.\n"
    }
   ],
   "source": [
    "pip install -i https://test.pypi.org/simple/ lambdata-timrocar==0.0.4"
   ]
  },
  {
   "cell_type": "code",
   "execution_count": 13,
   "metadata": {},
   "outputs": [],
   "source": [
    "import pandas as pd\n",
    "import numpy as np"
   ]
  },
  {
   "cell_type": "code",
   "execution_count": 16,
   "metadata": {},
   "outputs": [
    {
     "output_type": "error",
     "ename": "ImportError",
     "evalue": "cannot import name 'addlist' from 'lambdata' (C:\\Users\\timro\\AppData\\Local\\Programs\\Python\\Python38\\lib\\site-packages\\lambdata\\__init__.py)",
     "traceback": [
      "\u001b[1;31m---------------------------------------------------------------------------\u001b[0m",
      "\u001b[1;31mImportError\u001b[0m                               Traceback (most recent call last)",
      "\u001b[1;32m<ipython-input-16-5c463a5c9c36>\u001b[0m in \u001b[0;36m<module>\u001b[1;34m\u001b[0m\n\u001b[1;32m----> 1\u001b[1;33m \u001b[1;32mfrom\u001b[0m \u001b[0mlambdata\u001b[0m \u001b[1;32mimport\u001b[0m \u001b[0maddlist\u001b[0m\u001b[1;33m\u001b[0m\u001b[1;33m\u001b[0m\u001b[0m\n\u001b[0m",
      "\u001b[1;31mImportError\u001b[0m: cannot import name 'addlist' from 'lambdata' (C:\\Users\\timro\\AppData\\Local\\Programs\\Python\\Python38\\lib\\site-packages\\lambdata\\__init__.py)"
     ]
    }
   ],
   "source": [
    "from lambdata import functions"
   ]
  },
  {
   "cell_type": "code",
   "execution_count": null,
   "metadata": {},
   "outputs": [],
   "source": []
  }
 ],
 "metadata": {
  "kernelspec": {
   "display_name": "Python 3",
   "language": "python",
   "name": "python3"
  },
  "language_info": {
   "codemirror_mode": {
    "name": "ipython",
    "version": 3
   },
   "file_extension": ".py",
   "mimetype": "text/x-python",
   "name": "python",
   "nbconvert_exporter": "python",
   "pygments_lexer": "ipython3",
   "version": "3.8.5-final"
  }
 },
 "nbformat": 4,
 "nbformat_minor": 4
}